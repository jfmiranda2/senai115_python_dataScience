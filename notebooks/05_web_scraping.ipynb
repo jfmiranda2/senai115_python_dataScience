{
 "cells": [
  {
   "cell_type": "code",
   "execution_count": null,
   "id": "c337a576-65f6-4067-81a8-f3b43ae3ee8d",
   "metadata": {},
   "outputs": [],
   "source": [
    "#Instalação pacote selenium\n",
    "!pip install selenium"
   ]
  },
  {
   "cell_type": "code",
   "execution_count": 35,
   "id": "c009cd01-ba84-4834-a741-bc975ef35873",
   "metadata": {},
   "outputs": [],
   "source": [
    "#Importamos a biblioteca selenium\n",
    "from selenium import webdriver\n",
    "from selenium.webdriver.common.by import By"
   ]
  },
  {
   "cell_type": "code",
   "execution_count": 118,
   "id": "89d5b368-9baf-47c5-96e7-347dc9065408",
   "metadata": {},
   "outputs": [
    {
     "name": "stdout",
     "output_type": "stream",
     "text": [
      "Mark\n",
      "Jacob\n",
      "Larry\n",
      "Harry\n",
      "John\n",
      "Tim\n"
     ]
    }
   ],
   "source": [
    "#Abrimos uma instância do navegador google Chrome\n",
    "driver = webdriver.Chrome()\n",
    "driver.implicitly_wait(2) #espera dois segundos\n",
    "#Acessa a página do \n",
    "driver.get('https://webscraper.io/test-sites/tables')\n",
    "#Titulo da pagina\n",
    "titulo = driver.title\n",
    "tags_td = driver.find_elements(By.TAG_NAME, 'td')\n",
    "for i in range(1,24, 4): #\n",
    "    print(tags_td[i].text)\n",
    "#Fechamos a instância do navegador aberto\n",
    "driver.quit()\n"
   ]
  },
  {
   "cell_type": "code",
   "execution_count": null,
   "id": "767cab4e-35e7-491d-a4a3-d2389ecd7555",
   "metadata": {},
   "outputs": [],
   "source": []
  }
 ],
 "metadata": {
  "kernelspec": {
   "display_name": "Python 3 (ipykernel)",
   "language": "python",
   "name": "python3"
  },
  "language_info": {
   "codemirror_mode": {
    "name": "ipython",
    "version": 3
   },
   "file_extension": ".py",
   "mimetype": "text/x-python",
   "name": "python",
   "nbconvert_exporter": "python",
   "pygments_lexer": "ipython3",
   "version": "3.12.4"
  }
 },
 "nbformat": 4,
 "nbformat_minor": 5
}

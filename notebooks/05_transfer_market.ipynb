{
 "cells": [
  {
   "cell_type": "code",
   "execution_count": 3,
   "id": "24dde935-51e2-40d3-be2a-7e95252afeea",
   "metadata": {},
   "outputs": [],
   "source": [
    "#Instalar a biblioteca\n",
    "#!pip install selenium\n",
    "\n",
    "#Importar as bibliotecas\n",
    "from selenium import webdriver #manipular dados na web\n",
    "from selenium.webdriver.common.by import By #"
   ]
  },
  {
   "cell_type": "code",
   "execution_count": 57,
   "id": "6aff5bb2-dd5b-47a6-a5e5-4ce2b8cbb61c",
   "metadata": {},
   "outputs": [
    {
     "data": {
      "text/plain": [
       "'3\\nBayern\\nBundesliga\\nAllianz Arena\\n75.024 2 Primeira Divisão 1 75.024 1 75.024'"
      ]
     },
     "metadata": {},
     "output_type": "display_data"
    },
    {
     "name": "stdout",
     "output_type": "stream",
     "text": [
      "['3', 'Bayern', 'Bundesliga', 'Allianz Arena', '75.024 2 Primeira Divisão 1 75.024 1 75.024']\n",
      "['3', 'Bayern', 'Bundesliga', 'Allianz Arena', '75.024 2 Primeira Divisão 1 75.024 1 75.024', '75.024', '2', 'Primeira', 'Divisão', '1', '75.024', '1', '75.024']\n",
      "['3', 'Bayern', 'Bundesliga', 'Allianz Arena', '75.024', '2', 'Primeira', 'Divisão', '1', '75.024', '1', '75.024']\n"
     ]
    }
   ],
   "source": [
    "driver = webdriver.Chrome() #Chamar a classe do Chrome\n",
    "\n",
    "driver.implicitly_wait(2) #Método esperar dois segundos\n",
    "\n",
    "driver.get('https://www.transfermarkt.com.br/verein-statistik/zuschauerrangliste/\\\n",
    "statistik/stat/plus/1?selectedOptionKey=0&wettbewerb=liga')\n",
    "#dados_tabela = driver.find_elements(By.TAG_NAME, 'td')\n",
    "#print(dados_tabela[0].text)\n",
    "linhas_impares = driver.find_elements(By.CLASS_NAME, 'odd')\n",
    "display(linhas_impares[1].text)\n",
    "dados = linhas_impares[1].text.split('\\n')\n",
    "print(dados)\n",
    "dados += dados[4].split()\n",
    "print(dados)\n",
    "dados.pop(4)\n",
    "print(dados)\n"
   ]
  },
  {
   "cell_type": "code",
   "execution_count": null,
   "id": "411b6061-ea1e-4faf-97c8-34015e673632",
   "metadata": {},
   "outputs": [],
   "source": []
  }
 ],
 "metadata": {
  "kernelspec": {
   "display_name": "Python 3 (ipykernel)",
   "language": "python",
   "name": "python3"
  },
  "language_info": {
   "codemirror_mode": {
    "name": "ipython",
    "version": 3
   },
   "file_extension": ".py",
   "mimetype": "text/x-python",
   "name": "python",
   "nbconvert_exporter": "python",
   "pygments_lexer": "ipython3",
   "version": "3.12.4"
  }
 },
 "nbformat": 4,
 "nbformat_minor": 5
}
